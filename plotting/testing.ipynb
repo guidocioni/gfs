{
 "cells": [
  {
   "cell_type": "code",
   "execution_count": 1,
   "metadata": {
    "ExecuteTime": {
     "end_time": "2021-01-27T07:27:39.303731Z",
     "start_time": "2021-01-27T07:27:38.478655Z"
    }
   },
   "outputs": [],
   "source": [
    "import os\n",
    "import numpy as np\n",
    "from multiprocessing import Pool\n",
    "from functools import partial\n",
    "from utils import *\n",
    "import sys\n",
    "from computations import compute_geopot_height\n",
    "import metpy.calc as mpcalc"
   ]
  },
  {
   "cell_type": "code",
   "execution_count": 3,
   "metadata": {
    "ExecuteTime": {
     "end_time": "2021-01-27T07:27:45.524137Z",
     "start_time": "2021-01-27T07:27:45.406632Z"
    }
   },
   "outputs": [
    {
     "name": "stderr",
     "output_type": "stream",
     "text": [
      "Found latitude/longitude values, assuming latitude_longitude for projection grid_mapping variable\n",
      "Found latitude/longitude values, assuming latitude_longitude for projection grid_mapping variable\n",
      "Found latitude/longitude values, assuming latitude_longitude for projection grid_mapping variable\n",
      "Found latitude/longitude values, assuming latitude_longitude for projection grid_mapping variable\n",
      "Found latitude/longitude values, assuming latitude_longitude for projection grid_mapping variable\n",
      "Found latitude/longitude values, assuming latitude_longitude for projection grid_mapping variable\n",
      "Found latitude/longitude values, assuming latitude_longitude for projection grid_mapping variable\n",
      "Found latitude/longitude values, assuming latitude_longitude for projection grid_mapping variable\n",
      "Found latitude/longitude values, assuming latitude_longitude for projection grid_mapping variable\n",
      "Found latitude/longitude values, assuming latitude_longitude for projection grid_mapping variable\n",
      "Found latitude/longitude values, assuming latitude_longitude for projection grid_mapping variable\n",
      "Found latitude/longitude values, assuming latitude_longitude for projection grid_mapping variable\n",
      "Found latitude/longitude values, assuming latitude_longitude for projection grid_mapping variable\n",
      "Found latitude/longitude values, assuming latitude_longitude for projection grid_mapping variable\n",
      "Found latitude/longitude values, assuming latitude_longitude for projection grid_mapping variable\n",
      "Found latitude/longitude values, assuming latitude_longitude for projection grid_mapping variable\n",
      "Found latitude/longitude values, assuming latitude_longitude for projection grid_mapping variable\n",
      "Found latitude/longitude values, assuming latitude_longitude for projection grid_mapping variable\n",
      "Found latitude/longitude values, assuming latitude_longitude for projection grid_mapping variable\n",
      "Found latitude/longitude values, assuming latitude_longitude for projection grid_mapping variable\n",
      "Found latitude/longitude values, assuming latitude_longitude for projection grid_mapping variable\n",
      "Found latitude/longitude values, assuming latitude_longitude for projection grid_mapping variable\n",
      "Found latitude/longitude values, assuming latitude_longitude for projection grid_mapping variable\n",
      "Found latitude/longitude values, assuming latitude_longitude for projection grid_mapping variable\n"
     ]
    }
   ],
   "source": [
    "dset = read_dataset(variables=['prate', 'csnow',\n",
    "                                    'crain', 'tcc', 'prmsl'],\n",
    "                                    projection='euratl')"
   ]
  },
  {
   "cell_type": "code",
   "execution_count": 25,
   "metadata": {
    "ExecuteTime": {
     "end_time": "2021-01-27T10:41:06.561403Z",
     "start_time": "2021-01-27T10:41:06.558829Z"
    }
   },
   "outputs": [],
   "source": [
    "import matplotlib.pyplot as plt"
   ]
  },
  {
   "cell_type": "code",
   "execution_count": 28,
   "metadata": {
    "ExecuteTime": {
     "end_time": "2021-01-27T10:41:26.583150Z",
     "start_time": "2021-01-27T10:41:26.161051Z"
    }
   },
   "outputs": [
    {
     "data": {
      "text/plain": [
       "(array([1.24600545e+03, 3.44158902e+00, 4.01386000e-01, 1.08901510e-01,\n",
       "        2.34590209e-02, 1.09762391e-02, 5.81095014e-03, 2.15220375e-03,\n",
       "        0.00000000e+00, 2.15220375e-04]),\n",
       " array([0.    , 0.0008, 0.0016, 0.0024, 0.0032, 0.004 , 0.0048, 0.0056,\n",
       "        0.0064, 0.0072, 0.008 ], dtype=float32),\n",
       " <BarContainer object of 10 artists>)"
      ]
     },
     "execution_count": 28,
     "metadata": {},
     "output_type": "execute_result"
    },
    {
     "data": {
      "image/png": "[encoded data removed]",
      "text/plain": [
       "<Figure size 432x288 with 1 Axes>"
      ]
     },
     "metadata": {
      "needs_background": "light"
     },
     "output_type": "display_data"
    }
   ],
   "source": [
    "plt.hist(dset.prate.values.ravel(), density=True)"
   ]
  }
 ],
 "metadata": {
  "kernelspec": {
   "display_name": "Python 3",
   "language": "python",
   "name": "python3"
  },
  "language_info": {
   "codemirror_mode": {
    "name": "ipython",
    "version": 3
   },
   "file_extension": ".py",
   "mimetype": "text/x-python",
   "name": "python",
   "nbconvert_exporter": "python",
   "pygments_lexer": "ipython3",
   "version": "3.8.6"
  }
 },
 "nbformat": 4,
 "nbformat_minor": 4
}
