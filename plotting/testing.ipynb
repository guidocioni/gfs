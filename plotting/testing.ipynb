{
 "cells": [
  {
   "cell_type": "code",
   "execution_count": 1,
   "metadata": {},
   "outputs": [],
   "source": [
    "import os\n",
    "os.environ['MAPBOX_KEY'] = \"pk.eyJ1IjoiZ3VpZG9jaW9uaSIsImEiOiJjazM1enl2Z2swMnRuM2ttMnB2M2JhMHowIn0.5JEF8Cj8MDsmOF0R9Lbe3w\"\n",
    "os.environ['PROJ_LIB']=\"/home/ekman/miniconda3/share/proj\"\n",
    "import numpy as np\n",
    "from multiprocessing import Pool\n",
    "from functools import partial\n",
    "from utils import *\n",
    "import sys\n",
    "from computations import compute_geopot_height\n",
    "import metpy.calc as mpcalc"
   ]
  },
  {
   "cell_type": "code",
   "execution_count": 14,
   "metadata": {},
   "outputs": [
    {
     "name": "stderr",
     "output_type": "stream",
     "text": [
      "Found latitude/longitude values, assuming latitude_longitude for projection grid_mapping variable\n",
      "Found latitude/longitude values, assuming latitude_longitude for projection grid_mapping variable\n",
      "Found latitude/longitude values, assuming latitude_longitude for projection grid_mapping variable\n",
      "Found latitude/longitude values, assuming latitude_longitude for projection grid_mapping variable\n",
      "Found latitude/longitude values, assuming latitude_longitude for projection grid_mapping variable\n",
      "Found latitude/longitude values, assuming latitude_longitude for projection grid_mapping variable\n",
      "Found latitude/longitude values, assuming latitude_longitude for projection grid_mapping variable\n",
      "Found latitude/longitude values, assuming latitude_longitude for projection grid_mapping variable\n",
      "Found latitude/longitude values, assuming latitude_longitude for projection grid_mapping variable\n",
      "Found latitude/longitude values, assuming latitude_longitude for projection grid_mapping variable\n",
      "Found latitude/longitude values, assuming latitude_longitude for projection grid_mapping variable\n",
      "Found latitude/longitude values, assuming latitude_longitude for projection grid_mapping variable\n",
      "Found latitude/longitude values, assuming latitude_longitude for projection grid_mapping variable\n",
      "Found latitude/longitude values, assuming latitude_longitude for projection grid_mapping variable\n",
      "Found latitude/longitude values, assuming latitude_longitude for projection grid_mapping variable\n",
      "Found latitude/longitude values, assuming latitude_longitude for projection grid_mapping variable\n"
     ]
    }
   ],
   "source": [
    "dset = read_dataset(variables=['gh', 'prmsl', 't'], level=[5000],\n",
    "                        projection='it')"
   ]
  }
 ],
 "metadata": {
  "kernelspec": {
   "display_name": "Python 3",
   "language": "python",
   "name": "python3"
  },
  "language_info": {
   "codemirror_mode": {
    "name": "ipython",
    "version": 3
   },
   "file_extension": ".py",
   "mimetype": "text/x-python",
   "name": "python",
   "nbconvert_exporter": "python",
   "pygments_lexer": "ipython3",
   "version": "3.8.6"
  }
 },
 "nbformat": 4,
 "nbformat_minor": 4
}
